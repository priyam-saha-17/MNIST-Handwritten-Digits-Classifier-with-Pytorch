{
 "cells": [
  {
   "cell_type": "markdown",
   "metadata": {},
   "source": [
    "# Introduction\n",
    "\n",
    "In this project, you will build a neural network of your own design to evaluate the MNIST dataset.\n",
    "\n",
    "Some of the benchmark results on MNIST include can be found [on Yann LeCun's page](http://yann.lecun.com/exdb/mnist/) and include:\n",
    "\n",
    "88% [Lecun et al., 1998](http://yann.lecun.com/exdb/publis/pdf/lecun-98.pdf)\n",
    "95.3% [Lecun et al., 1998](http://yann.lecun.com/exdb/publis/pdf/lecun-98.pdf)\n",
    "99.65% [Ciresan et al., 2011](http://people.idsia.ch/~juergen/ijcai2011.pdf)\n",
    "\n",
    "MNIST is a great dataset for sanity checking your models, since the accuracy levels achieved by large convolutional neural networks and small linear models are both quite high. This makes it important to be familiar with the data.\n",
    "\n",
    "## Imports"
   ]
  },
  {
   "cell_type": "code",
   "execution_count": 60,
   "metadata": {},
   "outputs": [],
   "source": [
    "## This cell contains the essential imports you will need – DO NOT CHANGE THE CONTENTS! ##\n",
    "import torch\n",
    "import torch.nn as nn\n",
    "import torch.nn.functional as F\n",
    "import torch.optim as optim\n",
    "import torchvision\n",
    "import torchvision.transforms as transforms\n",
    "import matplotlib.pyplot as plt\n",
    "import numpy as np\n",
    "\n",
    "\n",
    "from torchvision import datasets\n",
    "from torch.utils.data.sampler import SubsetRandomSampler\n",
    "import time\n",
    "from tqdm import tqdm"
   ]
  },
  {
   "cell_type": "code",
   "execution_count": 61,
   "metadata": {},
   "outputs": [
    {
     "name": "stdout",
     "output_type": "stream",
     "text": [
      "Defaulting to user installation because normal site-packages is not writeable\n",
      "Requirement already satisfied: torchsummary in /root/.local/lib/python3.7/site-packages (1.5.1)\n"
     ]
    }
   ],
   "source": [
    "!pip install torchsummary"
   ]
  },
  {
   "cell_type": "code",
   "execution_count": 62,
   "metadata": {},
   "outputs": [
    {
     "name": "stdout",
     "output_type": "stream",
     "text": [
      "Defaulting to user installation because normal site-packages is not writeable\n",
      "Requirement already satisfied: ipywidgets in /root/.local/lib/python3.7/site-packages (8.0.7)\n",
      "Requirement already satisfied: ipython>=6.1.0 in /opt/conda/lib/python3.7/site-packages (from ipywidgets) (7.13.0)\n",
      "Requirement already satisfied: widgetsnbextension~=4.0.7 in /root/.local/lib/python3.7/site-packages (from ipywidgets) (4.0.8)\n",
      "Requirement already satisfied: ipykernel>=4.5.1 in /opt/conda/lib/python3.7/site-packages (from ipywidgets) (5.1.4)\n",
      "Requirement already satisfied: traitlets>=4.3.1 in /opt/conda/lib/python3.7/site-packages (from ipywidgets) (4.3.3)\n",
      "Requirement already satisfied: jupyterlab-widgets~=3.0.7 in /root/.local/lib/python3.7/site-packages (from ipywidgets) (3.0.8)\n",
      "Requirement already satisfied: pickleshare in /opt/conda/lib/python3.7/site-packages (from ipython>=6.1.0->ipywidgets) (0.7.5)\n",
      "Requirement already satisfied: prompt-toolkit!=3.0.0,!=3.0.1,<3.1.0,>=2.0.0 in /opt/conda/lib/python3.7/site-packages (from ipython>=6.1.0->ipywidgets) (3.0.3)\n",
      "Requirement already satisfied: jedi>=0.10 in /opt/conda/lib/python3.7/site-packages (from ipython>=6.1.0->ipywidgets) (0.16.0)\n",
      "Requirement already satisfied: decorator in /opt/conda/lib/python3.7/site-packages (from ipython>=6.1.0->ipywidgets) (4.4.2)\n",
      "Requirement already satisfied: backcall in /opt/conda/lib/python3.7/site-packages (from ipython>=6.1.0->ipywidgets) (0.1.0)\n",
      "Requirement already satisfied: pexpect; sys_platform != \"win32\" in /opt/conda/lib/python3.7/site-packages (from ipython>=6.1.0->ipywidgets) (4.8.0)\n",
      "Requirement already satisfied: setuptools>=18.5 in /opt/conda/lib/python3.7/site-packages (from ipython>=6.1.0->ipywidgets) (45.2.0.post20200209)\n",
      "Requirement already satisfied: pygments in /opt/conda/lib/python3.7/site-packages (from ipython>=6.1.0->ipywidgets) (2.5.2)\n",
      "Requirement already satisfied: jupyter-client in /opt/conda/lib/python3.7/site-packages (from ipykernel>=4.5.1->ipywidgets) (6.0.0)\n",
      "Requirement already satisfied: tornado>=4.2 in /opt/conda/lib/python3.7/site-packages (from ipykernel>=4.5.1->ipywidgets) (5.1.1)\n",
      "Requirement already satisfied: six in /opt/conda/lib/python3.7/site-packages (from traitlets>=4.3.1->ipywidgets) (1.16.0)\n",
      "Requirement already satisfied: ipython-genutils in /opt/conda/lib/python3.7/site-packages (from traitlets>=4.3.1->ipywidgets) (0.2.0)\n",
      "Requirement already satisfied: wcwidth in /opt/conda/lib/python3.7/site-packages (from prompt-toolkit!=3.0.0,!=3.0.1,<3.1.0,>=2.0.0->ipython>=6.1.0->ipywidgets) (0.1.8)\n",
      "Requirement already satisfied: parso>=0.5.2 in /opt/conda/lib/python3.7/site-packages (from jedi>=0.10->ipython>=6.1.0->ipywidgets) (0.6.1)\n",
      "Requirement already satisfied: ptyprocess>=0.5 in /opt/conda/lib/python3.7/site-packages (from pexpect; sys_platform != \"win32\"->ipython>=6.1.0->ipywidgets) (0.6.0)\n",
      "Requirement already satisfied: jupyter-core>=4.6.0 in /opt/conda/lib/python3.7/site-packages (from jupyter-client->ipykernel>=4.5.1->ipywidgets) (4.6.3)\n",
      "Requirement already satisfied: pyzmq>=13 in /opt/conda/lib/python3.7/site-packages (from jupyter-client->ipykernel>=4.5.1->ipywidgets) (19.0.0)\n",
      "Requirement already satisfied: python-dateutil>=2.1 in /opt/conda/lib/python3.7/site-packages (from jupyter-client->ipykernel>=4.5.1->ipywidgets) (2.8.1)\n"
     ]
    }
   ],
   "source": [
    "!pip install ipywidgets"
   ]
  },
  {
   "cell_type": "markdown",
   "metadata": {},
   "source": [
    "## Load the Dataset\n",
    "\n",
    "Specify your transforms as a list if you intend to .\n",
    "The transforms module is already loaded as `transforms`.\n",
    "\n",
    "MNIST is fortunately included in the torchvision module.\n",
    "Then, you can create your dataset using the `MNIST` object from `torchvision.datasets` ([the documentation is available here](https://pytorch.org/vision/stable/datasets.html#mnist)).\n",
    "Make sure to specify `download=True`! \n",
    "\n",
    "Once your dataset is created, you'll also need to define a `DataLoader` from the `torch.utils.data` module for both the train and the test set."
   ]
  },
  {
   "cell_type": "code",
   "execution_count": 63,
   "metadata": {},
   "outputs": [],
   "source": [
    "# Define transforms\n",
    "transform = transforms.Compose([transforms.ToTensor(),\n",
    "                                transforms.Normalize((0.5,), (0.5,))\n",
    "                               ])\n",
    "\n",
    "\n",
    "# Create training set and define training dataloader and validation dataloader\n",
    "train_data = datasets.MNIST(root='data', train=True, download=True, transform=transform)\n",
    "\n",
    "indices_list = list(range(len(train_data)))\n",
    "np.random.shuffle(indices_list)\n",
    "split_index = int(0.9 * len(indices_list))\n",
    "train_index = indices_list[: split_index]\n",
    "valid_index = indices_list[split_index: ]\n",
    "\n",
    "train_sampler = SubsetRandomSampler(train_index)\n",
    "valid_sampler = SubsetRandomSampler(valid_index)\n",
    "\n",
    "train_loader = torch.utils.data.DataLoader(train_data, batch_size=128, sampler=train_sampler)\n",
    "valid_loader = torch.utils.data.DataLoader(train_data, batch_size=128, sampler=valid_sampler)\n",
    "\n",
    "\n",
    "\n",
    "\n",
    "# Create test set and define test dataloader\n",
    "test_data = datasets.MNIST(root='data', train=False, download=True, transform=transform)\n",
    "test_loader = torch.utils.data.DataLoader(test_data, batch_size=128, shuffle = True)"
   ]
  },
  {
   "cell_type": "markdown",
   "metadata": {},
   "source": [
    "## Justify your preprocessing\n",
    "\n",
    "In your own words, why did you choose the transforms you chose? If you didn't use any preprocessing steps, why not?"
   ]
  },
  {
   "cell_type": "markdown",
   "metadata": {},
   "source": [
    "transforms.ToTensor() is used to convert the images to tensor arrays (which speed up the computation) of 1 colour channel (Grayscale value between 0-255) . transforms.Normalize() is used to normalize the tensor with a mean and standard deviation passed as parameters. \n",
    "\n",
    "Also a validation set was created taking 10% from the training set."
   ]
  },
  {
   "cell_type": "markdown",
   "metadata": {},
   "source": [
    "## Explore the Dataset\n",
    "Using matplotlib, numpy, and torch, explore the dimensions of your data.\n",
    "\n",
    "You can view images using the `show5` function defined below – it takes a data loader as an argument.\n",
    "Remember that normalized images will look really weird to you! You may want to try changing your transforms to view images.\n",
    "Typically using no transforms other than `toTensor()` works well for viewing – but not as well for training your network.\n",
    "If `show5` doesn't work, go back and check your code for creating your data loaders and your training/test sets."
   ]
  },
  {
   "cell_type": "code",
   "execution_count": 64,
   "metadata": {},
   "outputs": [
    {
     "name": "stdout",
     "output_type": "stream",
     "text": [
      "torch.Size([128, 1, 28, 28])\n",
      "torch.Size([128])\n"
     ]
    }
   ],
   "source": [
    "dataiter = iter(train_loader)\n",
    "images, labels = dataiter.next()\n",
    "\n",
    "print(images.shape)\n",
    "print(labels.shape)"
   ]
  },
  {
   "cell_type": "code",
   "execution_count": 65,
   "metadata": {},
   "outputs": [],
   "source": [
    "## This cell contains a function for showing 5 images from a dataloader – DO NOT CHANGE THE CONTENTS! ##\n",
    "def show5(img_loader):\n",
    "    dataiter = iter(img_loader)\n",
    "    \n",
    "    batch = next(dataiter)\n",
    "    labels = batch[1][0:5]\n",
    "    images = batch[0][0:5]\n",
    "    for i in range(5):\n",
    "        print(int(labels[i].detach()))\n",
    "    \n",
    "        image = images[i].numpy()\n",
    "        plt.imshow(image.T.squeeze().T)\n",
    "        plt.show()"
   ]
  },
  {
   "cell_type": "code",
   "execution_count": 66,
   "metadata": {},
   "outputs": [
    {
     "name": "stderr",
     "output_type": "stream",
     "text": [
      " 15%|█▌        | 65/422 [15:19<1:24:09, 14.14s/it]\n",
      " 82%|████████▏ | 347/422 [01:28<00:19,  3.92it/s]\n"
     ]
    },
    {
     "name": "stdout",
     "output_type": "stream",
     "text": [
      "6\n"
     ]
    },
    {
     "data": {
      "image/png": "[encoded data removed]",
      "text/plain": [
       "<Figure size 432x288 with 1 Axes>"
      ]
     },
     "metadata": {
      "needs_background": "light"
     },
     "output_type": "display_data"
    },
    {
     "name": "stdout",
     "output_type": "stream",
     "text": [
      "8\n"
     ]
    },
    {
     "data": {
      "image/png": "[encoded data removed]",
      "text/plain": [
       "<Figure size 432x288 with 1 Axes>"
      ]
     },
     "metadata": {
      "needs_background": "light"
     },
     "output_type": "display_data"
    },
    {
     "name": "stdout",
     "output_type": "stream",
     "text": [
      "7\n"
     ]
    },
    {
     "data": {
      "image/png": "[encoded data removed]",
      "text/plain": [
       "<Figure size 432x288 with 1 Axes>"
      ]
     },
     "metadata": {
      "needs_background": "light"
     },
     "output_type": "display_data"
    },
    {
     "name": "stdout",
     "output_type": "stream",
     "text": [
      "2\n"
     ]
    },
    {
     "data": {
      "image/png": "[encoded data removed]",
      "text/plain": [
       "<Figure size 432x288 with 1 Axes>"
      ]
     },
     "metadata": {
      "needs_background": "light"
     },
     "output_type": "display_data"
    },
    {
     "name": "stdout",
     "output_type": "stream",
     "text": [
      "5\n"
     ]
    },
    {
     "data": {
      "image/png": "[encoded data removed]",
      "text/plain": [
       "<Figure size 432x288 with 1 Axes>"
      ]
     },
     "metadata": {
      "needs_background": "light"
     },
     "output_type": "display_data"
    }
   ],
   "source": [
    "# Explore data\n",
    "show5(train_loader)"
   ]
  },
  {
   "cell_type": "code",
   "execution_count": 67,
   "metadata": {},
   "outputs": [
    {
     "name": "stdout",
     "output_type": "stream",
     "text": [
      "Number of batches:\n",
      "Training dataset:  422\n",
      "Validation Dataset:  47\n",
      "Test Dataset:  79\n"
     ]
    }
   ],
   "source": [
    "print(\"Number of batches:\")\n",
    "print(\"Training dataset: \", len(train_loader))\n",
    "print(\"Validation Dataset: \", len(valid_loader))\n",
    "print(\"Test Dataset: \", len(test_loader))"
   ]
  },
  {
   "cell_type": "markdown",
   "metadata": {},
   "source": [
    "## Build your Neural Network\n",
    "Using the layers in `torch.nn` (which has been imported as `nn`) and the `torch.nn.functional` module (imported as `F`), construct a neural network based on the parameters of the dataset.\n",
    "Use any architecture you like. \n",
    "\n",
    "*Note*: If you did not flatten your tensors in your transforms or as part of your preprocessing and you are using only `Linear` layers, make sure to use the `Flatten` layer in your network!"
   ]
  },
  {
   "cell_type": "code",
   "execution_count": 68,
   "metadata": {},
   "outputs": [],
   "source": [
    "class ann_model(nn.Module):\n",
    "    def __init__(self, num_classes=11):\n",
    "        super(ann_model, self).__init__()\n",
    "        self.classifier = nn.Sequential(\n",
    "            nn.Linear(28*28, 512),\n",
    "            nn.ReLU(),\n",
    "            nn.Dropout(0.5),\n",
    "            \n",
    "            nn.Linear(512, 256),\n",
    "            nn.ReLU(),\n",
    "            nn.Dropout(0.4),\n",
    "            \n",
    "            nn.Linear(256, 128),\n",
    "            nn.ReLU(),\n",
    "            nn.Dropout(0.3),\n",
    "            \n",
    "            nn.Linear(128, 64),\n",
    "            nn.ReLU(),\n",
    "            nn.Dropout(0.2),\n",
    "            \n",
    "            nn.Linear(64, 32),\n",
    "            nn.ReLU(),\n",
    "            \n",
    "            \n",
    "            nn.Linear(32, 10),\n",
    "            nn.LogSoftmax(dim=1)\n",
    "        )\n",
    "        \n",
    "    def forward(self, x):\n",
    "        out = torch.flatten(x, 1)      # flatten all dimensions except batch\n",
    "        out = self.classifier(out)\n",
    "        return out"
   ]
  },
  {
   "cell_type": "code",
   "execution_count": 69,
   "metadata": {},
   "outputs": [],
   "source": [
    "# Adding a few convolution layers before fc layers for feature extraction\n",
    "\n",
    "class cnn_model(nn.Module):\n",
    "    def __init__(self, num_classes=11):\n",
    "        super(cnn_model, self).__init__()\n",
    "        self.convolutions = nn.Sequential(\n",
    "            nn.Conv2d(1, 16, kernel_size=3, stride=1, padding=1),\n",
    "            nn.ReLU(inplace = True), \n",
    "            nn.Conv2d(16, 16, kernel_size=3, stride=1, padding=1),\n",
    "            nn.ReLU(inplace = True),\n",
    "            nn.MaxPool2d(kernel_size = 2, stride = 2),\n",
    "            \n",
    "            \n",
    "            nn.Conv2d(16, 64, kernel_size=3, stride=1, padding=1),\n",
    "            nn.ReLU(inplace = True),\n",
    "            nn.Conv2d(64, 64, kernel_size=3, stride=1, padding=1),\n",
    "            nn.ReLU(inplace = True),\n",
    "            nn.MaxPool2d(kernel_size = 2, stride = 2),\n",
    "            )\n",
    "\n",
    "        self.classifier = nn.Sequential(\n",
    "            nn.Linear(7*7*64, 512),\n",
    "            nn.ReLU(),\n",
    "            nn.Dropout(0.5),\n",
    "            \n",
    "            nn.Linear(512, 256),\n",
    "            nn.ReLU(),\n",
    "            nn.Dropout(0.4),\n",
    "            \n",
    "            nn.Linear(256, 128),\n",
    "            nn.ReLU(),\n",
    "            nn.Dropout(0.3),\n",
    "            \n",
    "            nn.Linear(128, 64),\n",
    "            nn.ReLU(),\n",
    "            nn.Dropout(0.2),\n",
    "            \n",
    "            nn.Linear(64, 32),\n",
    "            nn.ReLU(),\n",
    "            \n",
    "            \n",
    "            nn.Linear(32, 10),\n",
    "            nn.LogSoftmax(dim=1)\n",
    "        )\n",
    "        \n",
    "    def forward(self, x):\n",
    "        out = self.convolutions(x)\n",
    "        out = out.reshape(out.size(0), -1)\n",
    "        out = self.classifier(out)\n",
    "        return out"
   ]
  },
  {
   "cell_type": "markdown",
   "metadata": {},
   "source": [
    "Specify a loss function and an optimizer, and instantiate the model.\n",
    "\n",
    "If you use a less common loss function, please note why you chose that loss function in a comment."
   ]
  },
  {
   "cell_type": "code",
   "execution_count": 70,
   "metadata": {},
   "outputs": [],
   "source": [
    "def funct_criterion():\n",
    "    criterion = nn.NLLLoss()\n",
    "    return criterion\n",
    "\n",
    "\n",
    "def funct_optimizer(my_model, alpha = 0.001):\n",
    "    optimizer = optim.Adam(my_model.parameters(), alpha)\n",
    "    return optimizer\n",
    "\n",
    "\n",
    "def check_accuracy(model, dataloaders):\n",
    "    correct = 0\n",
    "    total = 0\n",
    "    with torch.no_grad():\n",
    "        for data in dataloaders:\n",
    "            images, labels = data[0].to('cuda'), data[1].to('cuda')\n",
    "            outputs = model(images)\n",
    "            _, predicted = torch.max(outputs.data, 1)\n",
    "            total += labels.size(0)\n",
    "            correct += (predicted == labels).sum().item()\n",
    "    return correct/total"
   ]
  },
  {
   "cell_type": "code",
   "execution_count": 71,
   "metadata": {},
   "outputs": [
    {
     "name": "stdout",
     "output_type": "stream",
     "text": [
      "ann_model(\n",
      "  (classifier): Sequential(\n",
      "    (0): Linear(in_features=784, out_features=512, bias=True)\n",
      "    (1): ReLU()\n",
      "    (2): Dropout(p=0.5, inplace=False)\n",
      "    (3): Linear(in_features=512, out_features=256, bias=True)\n",
      "    (4): ReLU()\n",
      "    (5): Dropout(p=0.4, inplace=False)\n",
      "    (6): Linear(in_features=256, out_features=128, bias=True)\n",
      "    (7): ReLU()\n",
      "    (8): Dropout(p=0.3, inplace=False)\n",
      "    (9): Linear(in_features=128, out_features=64, bias=True)\n",
      "    (10): ReLU()\n",
      "    (11): Dropout(p=0.2, inplace=False)\n",
      "    (12): Linear(in_features=64, out_features=32, bias=True)\n",
      "    (13): ReLU()\n",
      "    (14): Linear(in_features=32, out_features=10, bias=True)\n",
      "    (15): LogSoftmax(dim=1)\n",
      "  )\n",
      ")\n",
      "\n",
      "\n",
      "\n",
      "\n",
      "----------------------------------------------------------------\n",
      "        Layer (type)               Output Shape         Param #\n",
      "================================================================\n",
      "            Linear-1                  [-1, 512]         401,920\n",
      "              ReLU-2                  [-1, 512]               0\n",
      "           Dropout-3                  [-1, 512]               0\n",
      "            Linear-4                  [-1, 256]         131,328\n",
      "              ReLU-5                  [-1, 256]               0\n",
      "           Dropout-6                  [-1, 256]               0\n",
      "            Linear-7                  [-1, 128]          32,896\n",
      "              ReLU-8                  [-1, 128]               0\n",
      "           Dropout-9                  [-1, 128]               0\n",
      "           Linear-10                   [-1, 64]           8,256\n",
      "             ReLU-11                   [-1, 64]               0\n",
      "          Dropout-12                   [-1, 64]               0\n",
      "           Linear-13                   [-1, 32]           2,080\n",
      "             ReLU-14                   [-1, 32]               0\n",
      "           Linear-15                   [-1, 10]             330\n",
      "       LogSoftmax-16                   [-1, 10]               0\n",
      "================================================================\n",
      "Total params: 576,810\n",
      "Trainable params: 576,810\n",
      "Non-trainable params: 0\n",
      "----------------------------------------------------------------\n",
      "Input size (MB): 0.00\n",
      "Forward/backward pass size (MB): 0.02\n",
      "Params size (MB): 2.20\n",
      "Estimated Total Size (MB): 2.23\n",
      "----------------------------------------------------------------\n"
     ]
    }
   ],
   "source": [
    "# Creating an instance of fully connected network model\n",
    "\n",
    "model = ann_model().to('cuda')\n",
    "print(model)\n",
    "\n",
    "print()\n",
    "print()\n",
    "print()\n",
    "print()\n",
    "\n",
    "\n",
    "\n",
    "from torchsummary import summary\n",
    "summary(model, (1, 28, 28))\n",
    "\n",
    "\n",
    "del model"
   ]
  },
  {
   "cell_type": "code",
   "execution_count": 72,
   "metadata": {},
   "outputs": [
    {
     "name": "stdout",
     "output_type": "stream",
     "text": [
      "cnn_model(\n",
      "  (convolutions): Sequential(\n",
      "    (0): Conv2d(1, 16, kernel_size=(3, 3), stride=(1, 1), padding=(1, 1))\n",
      "    (1): ReLU(inplace=True)\n",
      "    (2): Conv2d(16, 16, kernel_size=(3, 3), stride=(1, 1), padding=(1, 1))\n",
      "    (3): ReLU(inplace=True)\n",
      "    (4): MaxPool2d(kernel_size=2, stride=2, padding=0, dilation=1, ceil_mode=False)\n",
      "    (5): Conv2d(16, 64, kernel_size=(3, 3), stride=(1, 1), padding=(1, 1))\n",
      "    (6): ReLU(inplace=True)\n",
      "    (7): Conv2d(64, 64, kernel_size=(3, 3), stride=(1, 1), padding=(1, 1))\n",
      "    (8): ReLU(inplace=True)\n",
      "    (9): MaxPool2d(kernel_size=2, stride=2, padding=0, dilation=1, ceil_mode=False)\n",
      "  )\n",
      "  (classifier): Sequential(\n",
      "    (0): Linear(in_features=3136, out_features=512, bias=True)\n",
      "    (1): ReLU()\n",
      "    (2): Dropout(p=0.5, inplace=False)\n",
      "    (3): Linear(in_features=512, out_features=256, bias=True)\n",
      "    (4): ReLU()\n",
      "    (5): Dropout(p=0.4, inplace=False)\n",
      "    (6): Linear(in_features=256, out_features=128, bias=True)\n",
      "    (7): ReLU()\n",
      "    (8): Dropout(p=0.3, inplace=False)\n",
      "    (9): Linear(in_features=128, out_features=64, bias=True)\n",
      "    (10): ReLU()\n",
      "    (11): Dropout(p=0.2, inplace=False)\n",
      "    (12): Linear(in_features=64, out_features=32, bias=True)\n",
      "    (13): ReLU()\n",
      "    (14): Linear(in_features=32, out_features=10, bias=True)\n",
      "    (15): LogSoftmax(dim=1)\n",
      "  )\n",
      ")\n",
      "\n",
      "\n",
      "\n",
      "\n",
      "----------------------------------------------------------------\n",
      "        Layer (type)               Output Shape         Param #\n",
      "================================================================\n",
      "            Conv2d-1           [-1, 16, 28, 28]             160\n",
      "              ReLU-2           [-1, 16, 28, 28]               0\n",
      "            Conv2d-3           [-1, 16, 28, 28]           2,320\n",
      "              ReLU-4           [-1, 16, 28, 28]               0\n",
      "         MaxPool2d-5           [-1, 16, 14, 14]               0\n",
      "            Conv2d-6           [-1, 64, 14, 14]           9,280\n",
      "              ReLU-7           [-1, 64, 14, 14]               0\n",
      "            Conv2d-8           [-1, 64, 14, 14]          36,928\n",
      "              ReLU-9           [-1, 64, 14, 14]               0\n",
      "        MaxPool2d-10             [-1, 64, 7, 7]               0\n",
      "           Linear-11                  [-1, 512]       1,606,144\n",
      "             ReLU-12                  [-1, 512]               0\n",
      "          Dropout-13                  [-1, 512]               0\n",
      "           Linear-14                  [-1, 256]         131,328\n",
      "             ReLU-15                  [-1, 256]               0\n",
      "          Dropout-16                  [-1, 256]               0\n",
      "           Linear-17                  [-1, 128]          32,896\n",
      "             ReLU-18                  [-1, 128]               0\n",
      "          Dropout-19                  [-1, 128]               0\n",
      "           Linear-20                   [-1, 64]           8,256\n",
      "             ReLU-21                   [-1, 64]               0\n",
      "          Dropout-22                   [-1, 64]               0\n",
      "           Linear-23                   [-1, 32]           2,080\n",
      "             ReLU-24                   [-1, 32]               0\n",
      "           Linear-25                   [-1, 10]             330\n",
      "       LogSoftmax-26                   [-1, 10]               0\n",
      "================================================================\n",
      "Total params: 1,829,722\n",
      "Trainable params: 1,829,722\n",
      "Non-trainable params: 0\n",
      "----------------------------------------------------------------\n",
      "Input size (MB): 0.00\n",
      "Forward/backward pass size (MB): 0.84\n",
      "Params size (MB): 6.98\n",
      "Estimated Total Size (MB): 7.82\n",
      "----------------------------------------------------------------\n"
     ]
    }
   ],
   "source": [
    "# Creating an instance of CNN model\n",
    "\n",
    "model = cnn_model().to('cuda')\n",
    "print(model)\n",
    "\n",
    "print()\n",
    "print()\n",
    "print()\n",
    "print()\n",
    "\n",
    "\n",
    "\n",
    "from torchsummary import summary\n",
    "summary(model, (1, 28, 28))\n",
    "\n",
    "\n",
    "del model"
   ]
  },
  {
   "cell_type": "markdown",
   "metadata": {},
   "source": [
    "## Running your Neural Network\n",
    "Use whatever method you like to train your neural network, and ensure you record the average loss at each epoch. \n",
    "Don't forget to use `torch.device()` and the `.to()` method for both your model and your data if you are using GPU!\n",
    "\n",
    "If you want to print your loss **during** each epoch, you can use the `enumerate` function and print the loss after a set number of batches. 250 batches works well for most people!"
   ]
  },
  {
   "cell_type": "code",
   "execution_count": 73,
   "metadata": {},
   "outputs": [],
   "source": [
    "def train_function(model, dataloaders_train, dataloaders_validate):\n",
    "    \n",
    "    print(\"TRAINING STARTED!!!!\")\n",
    "    start = time.time()\n",
    "    \n",
    "    \n",
    "    train_loss = []\n",
    "    train_acc = []\n",
    "    validate_acc = []\n",
    "    epoch = []\n",
    "\n",
    "    for count in range(num_of_iterations):\n",
    "    \n",
    "        print(\"================================================================\")\n",
    "        print(\"Iteration --> {}/{} \".format(count+1, num_of_iterations), end = '\\n')\n",
    "        print(\"================================================================\")\n",
    "        \n",
    "        running_loss = 0.0\n",
    "        steps = 0\n",
    "        \n",
    "        for i, data in tqdm(enumerate(dataloaders_train), total=len(dataloaders_train)):\n",
    "        \n",
    "            steps += 1\n",
    "            \n",
    "            inputs, labels = data\n",
    "            inputs = inputs.to('cuda')\n",
    "            labels = labels.to('cuda')\n",
    "            optimizer.zero_grad()\n",
    "        \n",
    "            #Feeding forward\n",
    "            outputs = model.forward(inputs)\n",
    "            loss = criterion(outputs, labels)\n",
    "            #Back-propagation\n",
    "            loss.backward()\n",
    "            optimizer.step()\n",
    "    \n",
    "            running_loss += loss.item()\n",
    "            tqdm._instances.clear()\n",
    "            \n",
    "        \n",
    "        epoch.append(count+1)\n",
    "        train_acc.append(round(check_accuracy(model, dataloaders_train), 4))\n",
    "        validate_acc.append(round(check_accuracy(model, dataloaders_validate), 4))\n",
    "        train_loss.append(running_loss/steps)\n",
    "        print(\"Training loss: \", running_loss/steps)\n",
    "        print(\"Training Accuracy: \", train_acc[-1])\n",
    "        print(\"Validation Accuracy: \", validate_acc[-1])\n",
    "        torch.cuda.empty_cache()\n",
    "\n",
    "\n",
    "    print(\"TRAINING OVER!!!!\")\n",
    "    end = time.time()\n",
    "    print(\"Training Time: \", (end - start)/60, \" minutes\")\n",
    "    \n",
    "    \n",
    "    f = plt.figure()\n",
    "    f.set_figwidth(10)\n",
    "    f.set_figheight(5)\n",
    "    plt.plot(epoch, train_acc, label = \"Training Accuracy\")\n",
    "    plt.plot(epoch, validate_acc, label = \"Validation Accuracy\")\n",
    "    plt.plot(epoch, train_loss, label = \"Training Loss\")\n",
    "    plt.legend()\n",
    "    plt.show()"
   ]
  },
  {
   "cell_type": "code",
   "execution_count": 75,
   "metadata": {},
   "outputs": [
    {
     "name": "stderr",
     "output_type": "stream",
     "text": [
      "  0%|          | 1/422 [00:00<00:52,  8.00it/s]"
     ]
    },
    {
     "name": "stdout",
     "output_type": "stream",
     "text": [
      "TRAINING STARTED!!!!\n",
      "================================================================\n",
      "Iteration --> 1/20 \n",
      "================================================================\n"
     ]
    },
    {
     "name": "stderr",
     "output_type": "stream",
     "text": [
      "100%|██████████| 422/422 [00:17<00:00, 23.67it/s]\n",
      "  0%|          | 1/422 [00:00<00:54,  7.67it/s]"
     ]
    },
    {
     "name": "stdout",
     "output_type": "stream",
     "text": [
      "Training loss:  0.8372898136411233\n",
      "Training Accuracy:  0.8691\n",
      "Validation Accuracy:  0.8697\n",
      "================================================================\n",
      "Iteration --> 2/20 \n",
      "================================================================\n"
     ]
    },
    {
     "name": "stderr",
     "output_type": "stream",
     "text": [
      "100%|██████████| 422/422 [00:17<00:00, 23.75it/s]\n",
      "  0%|          | 0/422 [00:00<?, ?it/s]"
     ]
    },
    {
     "name": "stdout",
     "output_type": "stream",
     "text": [
      "Training loss:  0.39901469895060027\n",
      "Training Accuracy:  0.9001\n",
      "Validation Accuracy:  0.9002\n",
      "================================================================\n",
      "Iteration --> 3/20 \n",
      "================================================================\n"
     ]
    },
    {
     "name": "stderr",
     "output_type": "stream",
     "text": [
      "100%|██████████| 422/422 [00:17<00:00, 23.64it/s]\n",
      "  0%|          | 0/422 [00:00<?, ?it/s]"
     ]
    },
    {
     "name": "stdout",
     "output_type": "stream",
     "text": [
      "Training loss:  0.3273533727638247\n",
      "Training Accuracy:  0.9146\n",
      "Validation Accuracy:  0.9122\n",
      "================================================================\n",
      "Iteration --> 4/20 \n",
      "================================================================\n"
     ]
    },
    {
     "name": "stderr",
     "output_type": "stream",
     "text": [
      "100%|██████████| 422/422 [00:17<00:00, 23.71it/s]\n",
      "  0%|          | 0/422 [00:00<?, ?it/s]"
     ]
    },
    {
     "name": "stdout",
     "output_type": "stream",
     "text": [
      "Training loss:  0.29375753813021555\n",
      "Training Accuracy:  0.9243\n",
      "Validation Accuracy:  0.9182\n",
      "================================================================\n",
      "Iteration --> 5/20 \n",
      "================================================================\n"
     ]
    },
    {
     "name": "stderr",
     "output_type": "stream",
     "text": [
      "100%|██████████| 422/422 [00:17<00:00, 23.54it/s]\n",
      "  0%|          | 1/422 [00:00<00:57,  7.29it/s]"
     ]
    },
    {
     "name": "stdout",
     "output_type": "stream",
     "text": [
      "Training loss:  0.2654849111557148\n",
      "Training Accuracy:  0.9324\n",
      "Validation Accuracy:  0.9265\n",
      "================================================================\n",
      "Iteration --> 6/20 \n",
      "================================================================\n"
     ]
    },
    {
     "name": "stderr",
     "output_type": "stream",
     "text": [
      "100%|██████████| 422/422 [00:17<00:00, 23.77it/s]\n",
      "  0%|          | 1/422 [00:00<00:55,  7.54it/s]"
     ]
    },
    {
     "name": "stdout",
     "output_type": "stream",
     "text": [
      "Training loss:  0.2510888422375889\n",
      "Training Accuracy:  0.9272\n",
      "Validation Accuracy:  0.9235\n",
      "================================================================\n",
      "Iteration --> 7/20 \n",
      "================================================================\n"
     ]
    },
    {
     "name": "stderr",
     "output_type": "stream",
     "text": [
      "100%|██████████| 422/422 [00:17<00:00, 23.69it/s]\n",
      "  0%|          | 0/422 [00:00<?, ?it/s]"
     ]
    },
    {
     "name": "stdout",
     "output_type": "stream",
     "text": [
      "Training loss:  0.23611452818905573\n",
      "Training Accuracy:  0.9392\n",
      "Validation Accuracy:  0.934\n",
      "================================================================\n",
      "Iteration --> 8/20 \n",
      "================================================================\n"
     ]
    },
    {
     "name": "stderr",
     "output_type": "stream",
     "text": [
      "100%|██████████| 422/422 [00:17<00:00, 23.60it/s]\n",
      "  0%|          | 0/422 [00:00<?, ?it/s]"
     ]
    },
    {
     "name": "stdout",
     "output_type": "stream",
     "text": [
      "Training loss:  0.22031112957163163\n",
      "Training Accuracy:  0.9439\n",
      "Validation Accuracy:  0.936\n",
      "================================================================\n",
      "Iteration --> 9/20 \n",
      "================================================================\n"
     ]
    },
    {
     "name": "stderr",
     "output_type": "stream",
     "text": [
      "100%|██████████| 422/422 [00:17<00:00, 23.80it/s]\n",
      "  0%|          | 1/422 [00:00<00:52,  8.00it/s]"
     ]
    },
    {
     "name": "stdout",
     "output_type": "stream",
     "text": [
      "Training loss:  0.21514099274907633\n",
      "Training Accuracy:  0.9428\n",
      "Validation Accuracy:  0.9373\n",
      "================================================================\n",
      "Iteration --> 10/20 \n",
      "================================================================\n"
     ]
    },
    {
     "name": "stderr",
     "output_type": "stream",
     "text": [
      "100%|██████████| 422/422 [00:17<00:00, 24.26it/s]\n",
      "  0%|          | 1/422 [00:00<00:52,  8.05it/s]"
     ]
    },
    {
     "name": "stdout",
     "output_type": "stream",
     "text": [
      "Training loss:  0.2076439520706074\n",
      "Training Accuracy:  0.9406\n",
      "Validation Accuracy:  0.9315\n",
      "================================================================\n",
      "Iteration --> 11/20 \n",
      "================================================================\n"
     ]
    },
    {
     "name": "stderr",
     "output_type": "stream",
     "text": [
      "100%|██████████| 422/422 [00:17<00:00, 24.28it/s]\n",
      "  0%|          | 0/422 [00:00<?, ?it/s]"
     ]
    },
    {
     "name": "stdout",
     "output_type": "stream",
     "text": [
      "Training loss:  0.1974568435154255\n",
      "Training Accuracy:  0.9491\n",
      "Validation Accuracy:  0.9442\n",
      "================================================================\n",
      "Iteration --> 12/20 \n",
      "================================================================\n"
     ]
    },
    {
     "name": "stderr",
     "output_type": "stream",
     "text": [
      "100%|██████████| 422/422 [00:17<00:00, 24.51it/s]\n",
      "  0%|          | 0/422 [00:00<?, ?it/s]"
     ]
    },
    {
     "name": "stdout",
     "output_type": "stream",
     "text": [
      "Training loss:  0.1915473721179917\n",
      "Training Accuracy:  0.9479\n",
      "Validation Accuracy:  0.946\n",
      "================================================================\n",
      "Iteration --> 13/20 \n",
      "================================================================\n"
     ]
    },
    {
     "name": "stderr",
     "output_type": "stream",
     "text": [
      "100%|██████████| 422/422 [00:17<00:00, 24.53it/s]\n",
      "  0%|          | 0/422 [00:00<?, ?it/s]"
     ]
    },
    {
     "name": "stdout",
     "output_type": "stream",
     "text": [
      "Training loss:  0.1864483755134858\n",
      "Training Accuracy:  0.9494\n",
      "Validation Accuracy:  0.9432\n",
      "================================================================\n",
      "Iteration --> 14/20 \n",
      "================================================================\n"
     ]
    },
    {
     "name": "stderr",
     "output_type": "stream",
     "text": [
      "100%|██████████| 422/422 [00:17<00:00, 24.24it/s]\n",
      "  0%|          | 1/422 [00:00<00:44,  9.43it/s]"
     ]
    },
    {
     "name": "stdout",
     "output_type": "stream",
     "text": [
      "Training loss:  0.18320045932703674\n",
      "Training Accuracy:  0.9519\n",
      "Validation Accuracy:  0.9457\n",
      "================================================================\n",
      "Iteration --> 15/20 \n",
      "================================================================\n"
     ]
    },
    {
     "name": "stderr",
     "output_type": "stream",
     "text": [
      "100%|██████████| 422/422 [00:16<00:00, 24.85it/s]\n",
      "  0%|          | 1/422 [00:00<00:55,  7.60it/s]"
     ]
    },
    {
     "name": "stdout",
     "output_type": "stream",
     "text": [
      "Training loss:  0.17602713450224478\n",
      "Training Accuracy:  0.9551\n",
      "Validation Accuracy:  0.946\n",
      "================================================================\n",
      "Iteration --> 16/20 \n",
      "================================================================\n"
     ]
    },
    {
     "name": "stderr",
     "output_type": "stream",
     "text": [
      "100%|██████████| 422/422 [00:17<00:00, 23.68it/s]\n",
      "  0%|          | 0/422 [00:00<?, ?it/s]"
     ]
    },
    {
     "name": "stdout",
     "output_type": "stream",
     "text": [
      "Training loss:  0.17630193713540432\n",
      "Training Accuracy:  0.95\n",
      "Validation Accuracy:  0.9427\n",
      "================================================================\n",
      "Iteration --> 17/20 \n",
      "================================================================\n"
     ]
    },
    {
     "name": "stderr",
     "output_type": "stream",
     "text": [
      "100%|██████████| 422/422 [00:17<00:00, 23.79it/s]\n",
      "  0%|          | 0/422 [00:00<?, ?it/s]"
     ]
    },
    {
     "name": "stdout",
     "output_type": "stream",
     "text": [
      "Training loss:  0.17044309369548802\n",
      "Training Accuracy:  0.9514\n",
      "Validation Accuracy:  0.9453\n",
      "================================================================\n",
      "Iteration --> 18/20 \n",
      "================================================================\n"
     ]
    },
    {
     "name": "stderr",
     "output_type": "stream",
     "text": [
      "100%|██████████| 422/422 [00:17<00:00, 23.67it/s]\n",
      "  0%|          | 0/422 [00:00<?, ?it/s]"
     ]
    },
    {
     "name": "stdout",
     "output_type": "stream",
     "text": [
      "Training loss:  0.16682806095964678\n",
      "Training Accuracy:  0.9568\n",
      "Validation Accuracy:  0.9513\n",
      "================================================================\n",
      "Iteration --> 19/20 \n",
      "================================================================\n"
     ]
    },
    {
     "name": "stderr",
     "output_type": "stream",
     "text": [
      "100%|██████████| 422/422 [00:17<00:00, 23.55it/s]\n",
      "  0%|          | 1/422 [00:00<00:58,  7.21it/s]"
     ]
    },
    {
     "name": "stdout",
     "output_type": "stream",
     "text": [
      "Training loss:  0.1602747983374231\n",
      "Training Accuracy:  0.9564\n",
      "Validation Accuracy:  0.9515\n",
      "================================================================\n",
      "Iteration --> 20/20 \n",
      "================================================================\n"
     ]
    },
    {
     "name": "stderr",
     "output_type": "stream",
     "text": [
      "100%|██████████| 422/422 [00:17<00:00, 23.58it/s]\n"
     ]
    },
    {
     "name": "stdout",
     "output_type": "stream",
     "text": [
      "Training loss:  0.1576374004202149\n",
      "Training Accuracy:  0.9574\n",
      "Validation Accuracy:  0.9507\n",
      "TRAINING OVER!!!!\n",
      "Training Time:  11.514337921142578  minutes\n"
     ]
    },
    {
     "data": {
      "image/png": "[encoded data removed]",
      "text/plain": [
       "<Figure size 720x360 with 1 Axes>"
      ]
     },
     "metadata": {
      "needs_background": "light"
     },
     "output_type": "display_data"
    }
   ],
   "source": [
    "model1 = ann_model().to('cuda')\n",
    "criterion = funct_criterion()\n",
    "optimizer = funct_optimizer(model1, alpha = 0.001)\n",
    "\n",
    "\n",
    "num_of_iterations = 20\n",
    "train_function(model1, train_loader, valid_loader)"
   ]
  },
  {
   "cell_type": "code",
   "execution_count": 76,
   "metadata": {},
   "outputs": [
    {
     "name": "stderr",
     "output_type": "stream",
     "text": [
      "  0%|          | 0/422 [00:00<?, ?it/s]"
     ]
    },
    {
     "name": "stdout",
     "output_type": "stream",
     "text": [
      "TRAINING STARTED!!!!\n",
      "================================================================\n",
      "Iteration --> 1/20 \n",
      "================================================================\n"
     ]
    },
    {
     "name": "stderr",
     "output_type": "stream",
     "text": [
      "100%|██████████| 422/422 [00:26<00:00, 15.98it/s]\n",
      "  0%|          | 0/422 [00:00<?, ?it/s]"
     ]
    },
    {
     "name": "stdout",
     "output_type": "stream",
     "text": [
      "Training loss:  0.596943044726035\n",
      "Training Accuracy:  0.9669\n",
      "Validation Accuracy:  0.9637\n",
      "================================================================\n",
      "Iteration --> 2/20 \n",
      "================================================================\n"
     ]
    },
    {
     "name": "stderr",
     "output_type": "stream",
     "text": [
      "100%|██████████| 422/422 [00:26<00:00, 16.14it/s]\n",
      "  0%|          | 0/422 [00:00<?, ?it/s]"
     ]
    },
    {
     "name": "stdout",
     "output_type": "stream",
     "text": [
      "Training loss:  0.11956051833292036\n",
      "Training Accuracy:  0.9766\n",
      "Validation Accuracy:  0.9748\n",
      "================================================================\n",
      "Iteration --> 3/20 \n",
      "================================================================\n"
     ]
    },
    {
     "name": "stderr",
     "output_type": "stream",
     "text": [
      "100%|██████████| 422/422 [00:26<00:00, 15.85it/s]\n",
      "  0%|          | 1/422 [00:00<01:00,  7.00it/s]"
     ]
    },
    {
     "name": "stdout",
     "output_type": "stream",
     "text": [
      "Training loss:  0.08726854496789982\n",
      "Training Accuracy:  0.9797\n",
      "Validation Accuracy:  0.9807\n",
      "================================================================\n",
      "Iteration --> 4/20 \n",
      "================================================================\n"
     ]
    },
    {
     "name": "stderr",
     "output_type": "stream",
     "text": [
      "100%|██████████| 422/422 [00:26<00:00, 16.08it/s]\n",
      "  0%|          | 0/422 [00:00<?, ?it/s]"
     ]
    },
    {
     "name": "stdout",
     "output_type": "stream",
     "text": [
      "Training loss:  0.0697353628709012\n",
      "Training Accuracy:  0.9836\n",
      "Validation Accuracy:  0.9817\n",
      "================================================================\n",
      "Iteration --> 5/20 \n",
      "================================================================\n"
     ]
    },
    {
     "name": "stderr",
     "output_type": "stream",
     "text": [
      "100%|██████████| 422/422 [00:26<00:00, 16.09it/s]\n",
      "  0%|          | 0/422 [00:00<?, ?it/s]"
     ]
    },
    {
     "name": "stdout",
     "output_type": "stream",
     "text": [
      "Training loss:  0.061496247642263066\n",
      "Training Accuracy:  0.9864\n",
      "Validation Accuracy:  0.9842\n",
      "================================================================\n",
      "Iteration --> 6/20 \n",
      "================================================================\n"
     ]
    },
    {
     "name": "stderr",
     "output_type": "stream",
     "text": [
      "100%|██████████| 422/422 [00:26<00:00, 15.99it/s]\n",
      "  0%|          | 0/422 [00:00<?, ?it/s]"
     ]
    },
    {
     "name": "stdout",
     "output_type": "stream",
     "text": [
      "Training loss:  0.04877583865932591\n",
      "Training Accuracy:  0.9895\n",
      "Validation Accuracy:  0.9857\n",
      "================================================================\n",
      "Iteration --> 7/20 \n",
      "================================================================\n"
     ]
    },
    {
     "name": "stderr",
     "output_type": "stream",
     "text": [
      "100%|██████████| 422/422 [00:26<00:00, 15.83it/s]\n",
      "  0%|          | 1/422 [00:00<01:04,  6.54it/s]"
     ]
    },
    {
     "name": "stdout",
     "output_type": "stream",
     "text": [
      "Training loss:  0.0451841245520412\n",
      "Training Accuracy:  0.9894\n",
      "Validation Accuracy:  0.986\n",
      "================================================================\n",
      "Iteration --> 8/20 \n",
      "================================================================\n"
     ]
    },
    {
     "name": "stderr",
     "output_type": "stream",
     "text": [
      "100%|██████████| 422/422 [00:26<00:00, 16.12it/s]\n",
      "  0%|          | 1/422 [00:00<01:03,  6.60it/s]"
     ]
    },
    {
     "name": "stdout",
     "output_type": "stream",
     "text": [
      "Training loss:  0.04153015759334374\n",
      "Training Accuracy:  0.9914\n",
      "Validation Accuracy:  0.987\n",
      "================================================================\n",
      "Iteration --> 9/20 \n",
      "================================================================\n"
     ]
    },
    {
     "name": "stderr",
     "output_type": "stream",
     "text": [
      "100%|██████████| 422/422 [00:26<00:00, 16.16it/s]\n",
      "  0%|          | 0/422 [00:00<?, ?it/s]"
     ]
    },
    {
     "name": "stdout",
     "output_type": "stream",
     "text": [
      "Training loss:  0.03503971967431805\n",
      "Training Accuracy:  0.9917\n",
      "Validation Accuracy:  0.9867\n",
      "================================================================\n",
      "Iteration --> 10/20 \n",
      "================================================================\n"
     ]
    },
    {
     "name": "stderr",
     "output_type": "stream",
     "text": [
      "100%|██████████| 422/422 [00:26<00:00, 16.05it/s]\n",
      "  0%|          | 0/422 [00:00<?, ?it/s]"
     ]
    },
    {
     "name": "stdout",
     "output_type": "stream",
     "text": [
      "Training loss:  0.03246221497326083\n",
      "Training Accuracy:  0.9921\n",
      "Validation Accuracy:  0.9847\n",
      "================================================================\n",
      "Iteration --> 11/20 \n",
      "================================================================\n"
     ]
    },
    {
     "name": "stderr",
     "output_type": "stream",
     "text": [
      "100%|██████████| 422/422 [00:26<00:00, 15.97it/s]\n",
      "  0%|          | 0/422 [00:00<?, ?it/s]"
     ]
    },
    {
     "name": "stdout",
     "output_type": "stream",
     "text": [
      "Training loss:  0.03031614959832795\n",
      "Training Accuracy:  0.9944\n",
      "Validation Accuracy:  0.989\n",
      "================================================================\n",
      "Iteration --> 12/20 \n",
      "================================================================\n"
     ]
    },
    {
     "name": "stderr",
     "output_type": "stream",
     "text": [
      "100%|██████████| 422/422 [00:26<00:00, 16.06it/s]\n",
      "  0%|          | 1/422 [00:00<01:12,  5.83it/s]"
     ]
    },
    {
     "name": "stdout",
     "output_type": "stream",
     "text": [
      "Training loss:  0.029772776044669044\n",
      "Training Accuracy:  0.9961\n",
      "Validation Accuracy:  0.9905\n",
      "================================================================\n",
      "Iteration --> 13/20 \n",
      "================================================================\n"
     ]
    },
    {
     "name": "stderr",
     "output_type": "stream",
     "text": [
      "100%|██████████| 422/422 [00:26<00:00, 15.73it/s]\n",
      "  0%|          | 1/422 [00:00<01:15,  5.54it/s]"
     ]
    },
    {
     "name": "stdout",
     "output_type": "stream",
     "text": [
      "Training loss:  0.023432313525375868\n",
      "Training Accuracy:  0.995\n",
      "Validation Accuracy:  0.9897\n",
      "================================================================\n",
      "Iteration --> 14/20 \n",
      "================================================================\n"
     ]
    },
    {
     "name": "stderr",
     "output_type": "stream",
     "text": [
      "100%|██████████| 422/422 [00:26<00:00, 16.04it/s]\n",
      "  0%|          | 0/422 [00:00<?, ?it/s]"
     ]
    },
    {
     "name": "stdout",
     "output_type": "stream",
     "text": [
      "Training loss:  0.02383394293565073\n",
      "Training Accuracy:  0.9945\n",
      "Validation Accuracy:  0.9878\n",
      "================================================================\n",
      "Iteration --> 15/20 \n",
      "================================================================\n"
     ]
    },
    {
     "name": "stderr",
     "output_type": "stream",
     "text": [
      "100%|██████████| 422/422 [00:26<00:00, 15.96it/s]\n",
      "  0%|          | 0/422 [00:00<?, ?it/s]"
     ]
    },
    {
     "name": "stdout",
     "output_type": "stream",
     "text": [
      "Training loss:  0.02013670466216121\n",
      "Training Accuracy:  0.9959\n",
      "Validation Accuracy:  0.9907\n",
      "================================================================\n",
      "Iteration --> 16/20 \n",
      "================================================================\n"
     ]
    },
    {
     "name": "stderr",
     "output_type": "stream",
     "text": [
      "100%|██████████| 422/422 [00:26<00:00, 16.01it/s]\n",
      "  0%|          | 1/422 [00:00<01:03,  6.59it/s]"
     ]
    },
    {
     "name": "stdout",
     "output_type": "stream",
     "text": [
      "Training loss:  0.021351448028072244\n",
      "Training Accuracy:  0.9947\n",
      "Validation Accuracy:  0.9905\n",
      "================================================================\n",
      "Iteration --> 17/20 \n",
      "================================================================\n"
     ]
    },
    {
     "name": "stderr",
     "output_type": "stream",
     "text": [
      "100%|██████████| 422/422 [00:26<00:00, 16.16it/s]\n",
      "  0%|          | 1/422 [00:00<01:00,  6.99it/s]"
     ]
    },
    {
     "name": "stdout",
     "output_type": "stream",
     "text": [
      "Training loss:  0.018330635495451598\n",
      "Training Accuracy:  0.9961\n",
      "Validation Accuracy:  0.9882\n",
      "================================================================\n",
      "Iteration --> 18/20 \n",
      "================================================================\n"
     ]
    },
    {
     "name": "stderr",
     "output_type": "stream",
     "text": [
      "100%|██████████| 422/422 [00:25<00:00, 16.31it/s]\n",
      "  0%|          | 0/422 [00:00<?, ?it/s]"
     ]
    },
    {
     "name": "stdout",
     "output_type": "stream",
     "text": [
      "Training loss:  0.01989856466120059\n",
      "Training Accuracy:  0.9969\n",
      "Validation Accuracy:  0.9895\n",
      "================================================================\n",
      "Iteration --> 19/20 \n",
      "================================================================\n"
     ]
    },
    {
     "name": "stderr",
     "output_type": "stream",
     "text": [
      "100%|██████████| 422/422 [00:26<00:00, 15.90it/s]\n",
      "  0%|          | 0/422 [00:00<?, ?it/s]"
     ]
    },
    {
     "name": "stdout",
     "output_type": "stream",
     "text": [
      "Training loss:  0.018072334468019608\n",
      "Training Accuracy:  0.9966\n",
      "Validation Accuracy:  0.9897\n",
      "================================================================\n",
      "Iteration --> 20/20 \n",
      "================================================================\n"
     ]
    },
    {
     "name": "stderr",
     "output_type": "stream",
     "text": [
      "100%|██████████| 422/422 [00:26<00:00, 15.98it/s]\n"
     ]
    },
    {
     "name": "stdout",
     "output_type": "stream",
     "text": [
      "Training loss:  0.016334835141726855\n",
      "Training Accuracy:  0.9964\n",
      "Validation Accuracy:  0.9912\n",
      "TRAINING OVER!!!!\n",
      "Training Time:  15.194056208928426  minutes\n"
     ]
    },
    {
     "data": {
      "image/png": "[encoded data removed]",
      "text/plain": [
       "<Figure size 720x360 with 1 Axes>"
      ]
     },
     "metadata": {
      "needs_background": "light"
     },
     "output_type": "display_data"
    }
   ],
   "source": [
    "model2 = cnn_model().to('cuda')\n",
    "criterion = funct_criterion()\n",
    "optimizer = funct_optimizer(model2, alpha = 0.001)\n",
    "\n",
    "\n",
    "num_of_iterations = 20\n",
    "train_function(model2, train_loader, valid_loader)"
   ]
  },
  {
   "cell_type": "markdown",
   "metadata": {},
   "source": [
    "## Testing your model\n",
    "Using the previously created `DataLoader` for the test set, compute the percentage of correct predictions using the highest probability prediction. \n",
    "\n",
    "If your accuracy is over 90%, great work, but see if you can push a bit further! \n",
    "If your accuracy is under 90%, you'll need to make improvements.\n",
    "Go back and check your model architecture, loss function, and optimizer to make sure they're appropriate for an image classification task."
   ]
  },
  {
   "cell_type": "code",
   "execution_count": 77,
   "metadata": {},
   "outputs": [
    {
     "name": "stdout",
     "output_type": "stream",
     "text": [
      "Network Accuracy on the Test Dataset for the ANN model =  95.27 %\n"
     ]
    }
   ],
   "source": [
    "ans = check_accuracy(model1, test_loader)\n",
    "print(\"Network Accuracy on the Test Dataset for the ANN model = \", round(ans*100, 4), \"%\")"
   ]
  },
  {
   "cell_type": "code",
   "execution_count": 78,
   "metadata": {},
   "outputs": [
    {
     "name": "stdout",
     "output_type": "stream",
     "text": [
      "Network Accuracy on the Test Dataset for the CNN model =  99.04 %\n"
     ]
    }
   ],
   "source": [
    "ans = check_accuracy(model2, test_loader)\n",
    "print(\"Network Accuracy on the Test Dataset for the CNN model = \", round(ans*100, 4), \"%\")"
   ]
  },
  {
   "cell_type": "code",
   "execution_count": 79,
   "metadata": {},
   "outputs": [],
   "source": [
    "del model1\n",
    "del model2"
   ]
  },
  {
   "cell_type": "markdown",
   "metadata": {},
   "source": [
    "## Improving your model\n",
    "\n",
    "Once your model is done training, try tweaking your hyperparameters and training again below to improve your accuracy on the test set!"
   ]
  },
  {
   "cell_type": "markdown",
   "metadata": {},
   "source": [
    "#### Here, I have tried to see if without normalizations, the two models perform slightly better....."
   ]
  },
  {
   "cell_type": "code",
   "execution_count": 80,
   "metadata": {},
   "outputs": [],
   "source": [
    "# Define transforms\n",
    "transform = transforms.Compose([transforms.ToTensor()])\n",
    "\n",
    "\n",
    "# Create training set and define training dataloader and validation dataloader\n",
    "train_data = datasets.MNIST(root='data', train=True, download=True, transform=transform)\n",
    "\n",
    "indices_list = list(range(len(train_data)))\n",
    "np.random.shuffle(indices_list)\n",
    "split_index = int(0.9 * len(indices_list))\n",
    "train_index = indices_list[: split_index]\n",
    "valid_index = indices_list[split_index: ]\n",
    "\n",
    "train_sampler = SubsetRandomSampler(train_index)\n",
    "valid_sampler = SubsetRandomSampler(valid_index)\n",
    "\n",
    "train_loader = torch.utils.data.DataLoader(train_data, batch_size=128, sampler=train_sampler)\n",
    "valid_loader = torch.utils.data.DataLoader(train_data, batch_size=128, sampler=valid_sampler)\n",
    "\n",
    "\n",
    "\n",
    "\n",
    "# Create test set and define test dataloader\n",
    "test_data = datasets.MNIST(root='data', train=False, download=True, transform=transform)\n",
    "test_loader = torch.utils.data.DataLoader(test_data, batch_size=128, shuffle = True)"
   ]
  },
  {
   "cell_type": "code",
   "execution_count": 81,
   "metadata": {},
   "outputs": [
    {
     "name": "stderr",
     "output_type": "stream",
     "text": [
      "  0%|          | 0/422 [00:00<?, ?it/s]"
     ]
    },
    {
     "name": "stdout",
     "output_type": "stream",
     "text": [
      "TRAINING STARTED!!!!\n",
      "================================================================\n",
      "Iteration --> 1/20 \n",
      "================================================================\n"
     ]
    },
    {
     "name": "stderr",
     "output_type": "stream",
     "text": [
      "100%|██████████| 422/422 [00:11<00:00, 36.25it/s]\n",
      "  0%|          | 2/422 [00:00<00:29, 14.29it/s]"
     ]
    },
    {
     "name": "stdout",
     "output_type": "stream",
     "text": [
      "Training loss:  0.5954934659091782\n",
      "Training Accuracy:  0.9245\n",
      "Validation Accuracy:  0.9237\n",
      "================================================================\n",
      "Iteration --> 2/20 \n",
      "================================================================\n"
     ]
    },
    {
     "name": "stderr",
     "output_type": "stream",
     "text": [
      "100%|██████████| 422/422 [00:11<00:00, 36.73it/s]\n",
      "  0%|          | 0/422 [00:00<?, ?it/s]"
     ]
    },
    {
     "name": "stdout",
     "output_type": "stream",
     "text": [
      "Training loss:  0.23459319968076678\n",
      "Training Accuracy:  0.9482\n",
      "Validation Accuracy:  0.9385\n",
      "================================================================\n",
      "Iteration --> 3/20 \n",
      "================================================================\n"
     ]
    },
    {
     "name": "stderr",
     "output_type": "stream",
     "text": [
      "100%|██████████| 422/422 [00:11<00:00, 35.41it/s]\n",
      "  0%|          | 0/422 [00:00<?, ?it/s]"
     ]
    },
    {
     "name": "stdout",
     "output_type": "stream",
     "text": [
      "Training loss:  0.17844681039240687\n",
      "Training Accuracy:  0.9542\n",
      "Validation Accuracy:  0.9437\n",
      "================================================================\n",
      "Iteration --> 4/20 \n",
      "================================================================\n"
     ]
    },
    {
     "name": "stderr",
     "output_type": "stream",
     "text": [
      "100%|██████████| 422/422 [00:11<00:00, 36.19it/s]\n",
      "  0%|          | 0/422 [00:00<?, ?it/s]"
     ]
    },
    {
     "name": "stdout",
     "output_type": "stream",
     "text": [
      "Training loss:  0.15285471039802118\n",
      "Training Accuracy:  0.9627\n",
      "Validation Accuracy:  0.9535\n",
      "================================================================\n",
      "Iteration --> 5/20 \n",
      "================================================================\n"
     ]
    },
    {
     "name": "stderr",
     "output_type": "stream",
     "text": [
      "100%|██████████| 422/422 [00:11<00:00, 36.42it/s]\n",
      "  0%|          | 2/422 [00:00<00:29, 14.13it/s]"
     ]
    },
    {
     "name": "stdout",
     "output_type": "stream",
     "text": [
      "Training loss:  0.1352937888151026\n",
      "Training Accuracy:  0.9661\n",
      "Validation Accuracy:  0.9555\n",
      "================================================================\n",
      "Iteration --> 6/20 \n",
      "================================================================\n"
     ]
    },
    {
     "name": "stderr",
     "output_type": "stream",
     "text": [
      "100%|██████████| 422/422 [00:11<00:00, 36.99it/s]\n",
      "  0%|          | 1/422 [00:00<00:51,  8.24it/s]"
     ]
    },
    {
     "name": "stdout",
     "output_type": "stream",
     "text": [
      "Training loss:  0.12551127623554795\n",
      "Training Accuracy:  0.9693\n",
      "Validation Accuracy:  0.955\n",
      "================================================================\n",
      "Iteration --> 7/20 \n",
      "================================================================\n"
     ]
    },
    {
     "name": "stderr",
     "output_type": "stream",
     "text": [
      "100%|██████████| 422/422 [00:11<00:00, 36.52it/s]\n",
      "  0%|          | 0/422 [00:00<?, ?it/s]"
     ]
    },
    {
     "name": "stdout",
     "output_type": "stream",
     "text": [
      "Training loss:  0.10981414832121812\n",
      "Training Accuracy:  0.9708\n",
      "Validation Accuracy:  0.9603\n",
      "================================================================\n",
      "Iteration --> 8/20 \n",
      "================================================================\n"
     ]
    },
    {
     "name": "stderr",
     "output_type": "stream",
     "text": [
      "100%|██████████| 422/422 [00:10<00:00, 39.00it/s]\n",
      "  0%|          | 1/422 [00:00<01:21,  5.14it/s]"
     ]
    },
    {
     "name": "stdout",
     "output_type": "stream",
     "text": [
      "Training loss:  0.1022878502786901\n",
      "Training Accuracy:  0.9744\n",
      "Validation Accuracy:  0.9657\n",
      "================================================================\n",
      "Iteration --> 9/20 \n",
      "================================================================\n"
     ]
    },
    {
     "name": "stderr",
     "output_type": "stream",
     "text": [
      "100%|██████████| 422/422 [00:10<00:00, 39.55it/s]\n",
      "  0%|          | 1/422 [00:00<01:20,  5.24it/s]"
     ]
    },
    {
     "name": "stdout",
     "output_type": "stream",
     "text": [
      "Training loss:  0.09901046381283428\n",
      "Training Accuracy:  0.9737\n",
      "Validation Accuracy:  0.9613\n",
      "================================================================\n",
      "Iteration --> 10/20 \n",
      "================================================================\n"
     ]
    },
    {
     "name": "stderr",
     "output_type": "stream",
     "text": [
      "100%|██████████| 422/422 [00:11<00:00, 36.70it/s]\n",
      "  0%|          | 1/422 [00:00<00:49,  8.43it/s]"
     ]
    },
    {
     "name": "stdout",
     "output_type": "stream",
     "text": [
      "Training loss:  0.09183591556894236\n",
      "Training Accuracy:  0.9775\n",
      "Validation Accuracy:  0.9662\n",
      "================================================================\n",
      "Iteration --> 11/20 \n",
      "================================================================\n"
     ]
    },
    {
     "name": "stderr",
     "output_type": "stream",
     "text": [
      "100%|██████████| 422/422 [00:11<00:00, 37.15it/s]\n",
      "  0%|          | 1/422 [00:00<00:43,  9.65it/s]"
     ]
    },
    {
     "name": "stdout",
     "output_type": "stream",
     "text": [
      "Training loss:  0.08625410263254461\n",
      "Training Accuracy:  0.9794\n",
      "Validation Accuracy:  0.9652\n",
      "================================================================\n",
      "Iteration --> 12/20 \n",
      "================================================================\n"
     ]
    },
    {
     "name": "stderr",
     "output_type": "stream",
     "text": [
      "100%|██████████| 422/422 [00:11<00:00, 37.02it/s]\n",
      "  0%|          | 0/422 [00:00<?, ?it/s]"
     ]
    },
    {
     "name": "stdout",
     "output_type": "stream",
     "text": [
      "Training loss:  0.08141500586246568\n",
      "Training Accuracy:  0.978\n",
      "Validation Accuracy:  0.9617\n",
      "================================================================\n",
      "Iteration --> 13/20 \n",
      "================================================================\n"
     ]
    },
    {
     "name": "stderr",
     "output_type": "stream",
     "text": [
      "100%|██████████| 422/422 [00:11<00:00, 36.20it/s]\n",
      "  0%|          | 0/422 [00:00<?, ?it/s]"
     ]
    },
    {
     "name": "stdout",
     "output_type": "stream",
     "text": [
      "Training loss:  0.07970356729578985\n",
      "Training Accuracy:  0.9785\n",
      "Validation Accuracy:  0.9628\n",
      "================================================================\n",
      "Iteration --> 14/20 \n",
      "================================================================\n"
     ]
    },
    {
     "name": "stderr",
     "output_type": "stream",
     "text": [
      "100%|██████████| 422/422 [00:11<00:00, 36.45it/s]\n",
      "  0%|          | 1/422 [00:00<00:50,  8.39it/s]"
     ]
    },
    {
     "name": "stdout",
     "output_type": "stream",
     "text": [
      "Training loss:  0.07535820441227847\n",
      "Training Accuracy:  0.9799\n",
      "Validation Accuracy:  0.9678\n",
      "================================================================\n",
      "Iteration --> 15/20 \n",
      "================================================================\n"
     ]
    },
    {
     "name": "stderr",
     "output_type": "stream",
     "text": [
      "100%|██████████| 422/422 [00:11<00:00, 36.34it/s]\n",
      "  0%|          | 1/422 [00:00<00:50,  8.28it/s]"
     ]
    },
    {
     "name": "stdout",
     "output_type": "stream",
     "text": [
      "Training loss:  0.07382649822729988\n",
      "Training Accuracy:  0.98\n",
      "Validation Accuracy:  0.9677\n",
      "================================================================\n",
      "Iteration --> 16/20 \n",
      "================================================================\n"
     ]
    },
    {
     "name": "stderr",
     "output_type": "stream",
     "text": [
      "100%|██████████| 422/422 [00:11<00:00, 36.91it/s]\n",
      "  0%|          | 0/422 [00:00<?, ?it/s]"
     ]
    },
    {
     "name": "stdout",
     "output_type": "stream",
     "text": [
      "Training loss:  0.06637439917512591\n",
      "Training Accuracy:  0.9804\n",
      "Validation Accuracy:  0.967\n",
      "================================================================\n",
      "Iteration --> 17/20 \n",
      "================================================================\n"
     ]
    },
    {
     "name": "stderr",
     "output_type": "stream",
     "text": [
      "100%|██████████| 422/422 [00:11<00:00, 36.46it/s]\n",
      "  0%|          | 0/422 [00:00<?, ?it/s]"
     ]
    },
    {
     "name": "stdout",
     "output_type": "stream",
     "text": [
      "Training loss:  0.06881233921574685\n",
      "Training Accuracy:  0.9812\n",
      "Validation Accuracy:  0.9658\n",
      "================================================================\n",
      "Iteration --> 18/20 \n",
      "================================================================\n"
     ]
    },
    {
     "name": "stderr",
     "output_type": "stream",
     "text": [
      "100%|██████████| 422/422 [00:11<00:00, 35.88it/s]\n",
      "  0%|          | 0/422 [00:00<?, ?it/s]"
     ]
    },
    {
     "name": "stdout",
     "output_type": "stream",
     "text": [
      "Training loss:  0.06212947137987074\n",
      "Training Accuracy:  0.9834\n",
      "Validation Accuracy:  0.968\n",
      "================================================================\n",
      "Iteration --> 19/20 \n",
      "================================================================\n"
     ]
    },
    {
     "name": "stderr",
     "output_type": "stream",
     "text": [
      "100%|██████████| 422/422 [00:11<00:00, 36.45it/s]\n",
      "  0%|          | 1/422 [00:00<00:59,  7.11it/s]"
     ]
    },
    {
     "name": "stdout",
     "output_type": "stream",
     "text": [
      "Training loss:  0.060530834666881445\n",
      "Training Accuracy:  0.9825\n",
      "Validation Accuracy:  0.965\n",
      "================================================================\n",
      "Iteration --> 20/20 \n",
      "================================================================\n"
     ]
    },
    {
     "name": "stderr",
     "output_type": "stream",
     "text": [
      "100%|██████████| 422/422 [00:11<00:00, 36.61it/s]\n"
     ]
    },
    {
     "name": "stdout",
     "output_type": "stream",
     "text": [
      "Training loss:  0.06207939843267591\n",
      "Training Accuracy:  0.9851\n",
      "Validation Accuracy:  0.9687\n",
      "TRAINING OVER!!!!\n",
      "Training Time:  7.319828097025553  minutes\n"
     ]
    },
    {
     "data": {
      "image/png": "[encoded data removed]",
      "text/plain": [
       "<Figure size 720x360 with 1 Axes>"
      ]
     },
     "metadata": {
      "needs_background": "light"
     },
     "output_type": "display_data"
    }
   ],
   "source": [
    "model1 = ann_model().to('cuda')\n",
    "criterion = funct_criterion()\n",
    "optimizer = funct_optimizer(model1, alpha = 0.001)\n",
    "\n",
    "\n",
    "num_of_iterations = 20\n",
    "train_function(model1, train_loader, valid_loader)"
   ]
  },
  {
   "cell_type": "code",
   "execution_count": 82,
   "metadata": {},
   "outputs": [
    {
     "name": "stderr",
     "output_type": "stream",
     "text": [
      "  0%|          | 0/422 [00:00<?, ?it/s]"
     ]
    },
    {
     "name": "stdout",
     "output_type": "stream",
     "text": [
      "TRAINING STARTED!!!!\n",
      "================================================================\n",
      "Iteration --> 1/20 \n",
      "================================================================\n"
     ]
    },
    {
     "name": "stderr",
     "output_type": "stream",
     "text": [
      "100%|██████████| 422/422 [00:20<00:00, 20.52it/s]\n",
      "  0%|          | 0/422 [00:00<?, ?it/s]"
     ]
    },
    {
     "name": "stdout",
     "output_type": "stream",
     "text": [
      "Training loss:  0.6023654060888488\n",
      "Training Accuracy:  0.9617\n",
      "Validation Accuracy:  0.9607\n",
      "================================================================\n",
      "Iteration --> 2/20 \n",
      "================================================================\n"
     ]
    },
    {
     "name": "stderr",
     "output_type": "stream",
     "text": [
      "100%|██████████| 422/422 [00:20<00:00, 20.45it/s]\n",
      "  0%|          | 0/422 [00:00<?, ?it/s]"
     ]
    },
    {
     "name": "stdout",
     "output_type": "stream",
     "text": [
      "Training loss:  0.12868107415038332\n",
      "Training Accuracy:  0.979\n",
      "Validation Accuracy:  0.9743\n",
      "================================================================\n",
      "Iteration --> 3/20 \n",
      "================================================================\n"
     ]
    },
    {
     "name": "stderr",
     "output_type": "stream",
     "text": [
      "100%|██████████| 422/422 [00:20<00:00, 20.53it/s]\n",
      "  0%|          | 1/422 [00:00<00:58,  7.16it/s]"
     ]
    },
    {
     "name": "stdout",
     "output_type": "stream",
     "text": [
      "Training loss:  0.09096099314019437\n",
      "Training Accuracy:  0.9817\n",
      "Validation Accuracy:  0.9793\n",
      "================================================================\n",
      "Iteration --> 4/20 \n",
      "================================================================\n"
     ]
    },
    {
     "name": "stderr",
     "output_type": "stream",
     "text": [
      "100%|██████████| 422/422 [00:19<00:00, 21.37it/s]\n",
      "  0%|          | 1/422 [00:00<00:59,  7.11it/s]"
     ]
    },
    {
     "name": "stdout",
     "output_type": "stream",
     "text": [
      "Training loss:  0.0719670783778017\n",
      "Training Accuracy:  0.9851\n",
      "Validation Accuracy:  0.9813\n",
      "================================================================\n",
      "Iteration --> 5/20 \n",
      "================================================================\n"
     ]
    },
    {
     "name": "stderr",
     "output_type": "stream",
     "text": [
      "100%|██████████| 422/422 [00:17<00:00, 23.74it/s]\n",
      "  0%|          | 0/422 [00:00<?, ?it/s]"
     ]
    },
    {
     "name": "stdout",
     "output_type": "stream",
     "text": [
      "Training loss:  0.06362053370809456\n",
      "Training Accuracy:  0.9886\n",
      "Validation Accuracy:  0.984\n",
      "================================================================\n",
      "Iteration --> 6/20 \n",
      "================================================================\n"
     ]
    },
    {
     "name": "stderr",
     "output_type": "stream",
     "text": [
      "100%|██████████| 422/422 [00:17<00:00, 23.45it/s]\n",
      "  0%|          | 0/422 [00:00<?, ?it/s]"
     ]
    },
    {
     "name": "stdout",
     "output_type": "stream",
     "text": [
      "Training loss:  0.052427770073914026\n",
      "Training Accuracy:  0.9884\n",
      "Validation Accuracy:  0.9838\n",
      "================================================================\n",
      "Iteration --> 7/20 \n",
      "================================================================\n"
     ]
    },
    {
     "name": "stderr",
     "output_type": "stream",
     "text": [
      "100%|██████████| 422/422 [00:17<00:00, 24.34it/s]\n",
      "  0%|          | 0/422 [00:00<?, ?it/s]"
     ]
    },
    {
     "name": "stdout",
     "output_type": "stream",
     "text": [
      "Training loss:  0.04760317474336615\n",
      "Training Accuracy:  0.9833\n",
      "Validation Accuracy:  0.9782\n",
      "================================================================\n",
      "Iteration --> 8/20 \n",
      "================================================================\n"
     ]
    },
    {
     "name": "stderr",
     "output_type": "stream",
     "text": [
      "100%|██████████| 422/422 [00:20<00:00, 20.96it/s]\n",
      "  0%|          | 1/422 [00:00<01:02,  6.71it/s]"
     ]
    },
    {
     "name": "stdout",
     "output_type": "stream",
     "text": [
      "Training loss:  0.044357990479274426\n",
      "Training Accuracy:  0.9914\n",
      "Validation Accuracy:  0.9878\n",
      "================================================================\n",
      "Iteration --> 9/20 \n",
      "================================================================\n"
     ]
    },
    {
     "name": "stderr",
     "output_type": "stream",
     "text": [
      "100%|██████████| 422/422 [00:20<00:00, 20.94it/s]\n",
      "  0%|          | 0/422 [00:00<?, ?it/s]"
     ]
    },
    {
     "name": "stdout",
     "output_type": "stream",
     "text": [
      "Training loss:  0.03658986286912886\n",
      "Training Accuracy:  0.9914\n",
      "Validation Accuracy:  0.9867\n",
      "================================================================\n",
      "Iteration --> 10/20 \n",
      "================================================================\n"
     ]
    },
    {
     "name": "stderr",
     "output_type": "stream",
     "text": [
      "100%|██████████| 422/422 [00:19<00:00, 21.49it/s]\n",
      "  0%|          | 0/422 [00:00<?, ?it/s]"
     ]
    },
    {
     "name": "stdout",
     "output_type": "stream",
     "text": [
      "Training loss:  0.037108974268117045\n",
      "Training Accuracy:  0.9936\n",
      "Validation Accuracy:  0.988\n",
      "================================================================\n",
      "Iteration --> 11/20 \n",
      "================================================================\n"
     ]
    },
    {
     "name": "stderr",
     "output_type": "stream",
     "text": [
      "100%|██████████| 422/422 [00:20<00:00, 20.18it/s]\n",
      "  0%|          | 0/422 [00:00<?, ?it/s]"
     ]
    },
    {
     "name": "stdout",
     "output_type": "stream",
     "text": [
      "Training loss:  0.0308711008294\n",
      "Training Accuracy:  0.993\n",
      "Validation Accuracy:  0.9855\n",
      "================================================================\n",
      "Iteration --> 12/20 \n",
      "================================================================\n"
     ]
    },
    {
     "name": "stderr",
     "output_type": "stream",
     "text": [
      "100%|██████████| 422/422 [00:20<00:00, 20.14it/s]\n",
      "  0%|          | 1/422 [00:00<01:05,  6.44it/s]"
     ]
    },
    {
     "name": "stdout",
     "output_type": "stream",
     "text": [
      "Training loss:  0.02846038237369125\n",
      "Training Accuracy:  0.9939\n",
      "Validation Accuracy:  0.9873\n",
      "================================================================\n",
      "Iteration --> 13/20 \n",
      "================================================================\n"
     ]
    },
    {
     "name": "stderr",
     "output_type": "stream",
     "text": [
      "100%|██████████| 422/422 [00:20<00:00, 20.98it/s]\n",
      "  0%|          | 1/422 [00:00<00:56,  7.49it/s]"
     ]
    },
    {
     "name": "stdout",
     "output_type": "stream",
     "text": [
      "Training loss:  0.029024351707944356\n",
      "Training Accuracy:  0.994\n",
      "Validation Accuracy:  0.9875\n",
      "================================================================\n",
      "Iteration --> 14/20 \n",
      "================================================================\n"
     ]
    },
    {
     "name": "stderr",
     "output_type": "stream",
     "text": [
      "100%|██████████| 422/422 [00:20<00:00, 20.96it/s]\n",
      "  0%|          | 0/422 [00:00<?, ?it/s]"
     ]
    },
    {
     "name": "stdout",
     "output_type": "stream",
     "text": [
      "Training loss:  0.024253593160223515\n",
      "Training Accuracy:  0.9954\n",
      "Validation Accuracy:  0.9892\n",
      "================================================================\n",
      "Iteration --> 15/20 \n",
      "================================================================\n"
     ]
    },
    {
     "name": "stderr",
     "output_type": "stream",
     "text": [
      "100%|██████████| 422/422 [00:20<00:00, 20.99it/s]\n",
      "  0%|          | 0/422 [00:00<?, ?it/s]"
     ]
    },
    {
     "name": "stdout",
     "output_type": "stream",
     "text": [
      "Training loss:  0.021300890375857275\n",
      "Training Accuracy:  0.9946\n",
      "Validation Accuracy:  0.9892\n",
      "================================================================\n",
      "Iteration --> 16/20 \n",
      "================================================================\n"
     ]
    },
    {
     "name": "stderr",
     "output_type": "stream",
     "text": [
      "100%|██████████| 422/422 [00:19<00:00, 21.81it/s]\n",
      "  0%|          | 0/422 [00:00<?, ?it/s]"
     ]
    },
    {
     "name": "stdout",
     "output_type": "stream",
     "text": [
      "Training loss:  0.024607447071007277\n",
      "Training Accuracy:  0.995\n",
      "Validation Accuracy:  0.9873\n",
      "================================================================\n",
      "Iteration --> 17/20 \n",
      "================================================================\n"
     ]
    },
    {
     "name": "stderr",
     "output_type": "stream",
     "text": [
      "100%|██████████| 422/422 [00:19<00:00, 21.88it/s]\n",
      "  0%|          | 1/422 [00:00<00:57,  7.35it/s]"
     ]
    },
    {
     "name": "stdout",
     "output_type": "stream",
     "text": [
      "Training loss:  0.02129553273084747\n",
      "Training Accuracy:  0.9955\n",
      "Validation Accuracy:  0.9867\n",
      "================================================================\n",
      "Iteration --> 18/20 \n",
      "================================================================\n"
     ]
    },
    {
     "name": "stderr",
     "output_type": "stream",
     "text": [
      "100%|██████████| 422/422 [00:19<00:00, 21.51it/s]\n",
      "  0%|          | 1/422 [00:00<01:00,  6.99it/s]"
     ]
    },
    {
     "name": "stdout",
     "output_type": "stream",
     "text": [
      "Training loss:  0.020867785845831602\n",
      "Training Accuracy:  0.9954\n",
      "Validation Accuracy:  0.9885\n",
      "================================================================\n",
      "Iteration --> 19/20 \n",
      "================================================================\n"
     ]
    },
    {
     "name": "stderr",
     "output_type": "stream",
     "text": [
      "100%|██████████| 422/422 [00:19<00:00, 21.72it/s]\n",
      "  0%|          | 0/422 [00:00<?, ?it/s]"
     ]
    },
    {
     "name": "stdout",
     "output_type": "stream",
     "text": [
      "Training loss:  0.018864597595212387\n",
      "Training Accuracy:  0.996\n",
      "Validation Accuracy:  0.9883\n",
      "================================================================\n",
      "Iteration --> 20/20 \n",
      "================================================================\n"
     ]
    },
    {
     "name": "stderr",
     "output_type": "stream",
     "text": [
      "100%|██████████| 422/422 [00:19<00:00, 21.73it/s]\n"
     ]
    },
    {
     "name": "stdout",
     "output_type": "stream",
     "text": [
      "Training loss:  0.016806222199447458\n",
      "Training Accuracy:  0.9957\n",
      "Validation Accuracy:  0.9867\n",
      "TRAINING OVER!!!!\n",
      "Training Time:  10.763115835189819  minutes\n"
     ]
    },
    {
     "data": {
      "image/png": "[encoded data removed]",
      "text/plain": [
       "<Figure size 720x360 with 1 Axes>"
      ]
     },
     "metadata": {
      "needs_background": "light"
     },
     "output_type": "display_data"
    }
   ],
   "source": [
    "model2 = cnn_model().to('cuda')\n",
    "criterion = funct_criterion()\n",
    "optimizer = funct_optimizer(model2, alpha = 0.001)\n",
    "\n",
    "\n",
    "num_of_iterations = 20\n",
    "train_function(model2, train_loader, valid_loader)"
   ]
  },
  {
   "cell_type": "code",
   "execution_count": 83,
   "metadata": {},
   "outputs": [
    {
     "name": "stdout",
     "output_type": "stream",
     "text": [
      "Network Accuracy on the Test Dataset for the ANN model =  96.91 %\n",
      "Network Accuracy on the Test Dataset for the CNN model =  98.75 %\n"
     ]
    }
   ],
   "source": [
    "# Re-testing the models....\n",
    "\n",
    "ans = check_accuracy(model1, test_loader)\n",
    "print(\"Network Accuracy on the Test Dataset for the ANN model = \", round(ans*100, 4), \"%\")\n",
    "\n",
    "ans = check_accuracy(model2, test_loader)\n",
    "print(\"Network Accuracy on the Test Dataset for the CNN model = \", round(ans*100, 4), \"%\")"
   ]
  },
  {
   "cell_type": "markdown",
   "metadata": {},
   "source": [
    "## Sanity Checking"
   ]
  },
  {
   "cell_type": "code",
   "execution_count": 101,
   "metadata": {},
   "outputs": [
    {
     "name": "stdout",
     "output_type": "stream",
     "text": [
      "Predicted Digit = 6\n"
     ]
    },
    {
     "data": {
      "image/png": "[encoded data removed]",
      "text/plain": [
       "<Figure size 432x648 with 2 Axes>"
      ]
     },
     "metadata": {
      "needs_background": "light"
     },
     "output_type": "display_data"
    }
   ],
   "source": [
    "# With the ANN model\n",
    "\n",
    "with torch.no_grad():\n",
    "    images, labels = next(iter(test_loader))\n",
    "    images, labels = images.to('cuda'), labels.to('cuda')\n",
    "    img = images[0].view(1, 784)\n",
    "\n",
    "    logps = model1(img)           # log-probabilities\n",
    "    ps = torch.exp(logps)         # probabilities\n",
    "\n",
    "    probab = list(ps.cpu().numpy()[0])\n",
    "    print(\"Predicted Digit =\", probab.index(max(probab)))\n",
    "\n",
    "    ps = ps.cpu().data.numpy().squeeze()\n",
    "    fig, (ax1, ax2) = plt.subplots(figsize=(6,9), ncols=2)\n",
    "    ax1.imshow(img.resize_(1, 28, 28).cpu().numpy().squeeze())\n",
    "    ax1.axis('off')\n",
    "    ax2.barh(np.arange(10), ps)\n",
    "    ax2.set_aspect(0.1)\n",
    "    ax2.set_yticks(np.arange(10))\n",
    "    ax2.set_yticklabels(np.arange(10))\n",
    "    ax2.set_title('Class Probability')\n",
    "    ax2.set_xlim(0, 1.1)\n",
    "    plt.tight_layout()"
   ]
  },
  {
   "cell_type": "markdown",
   "metadata": {},
   "source": [
    "## Saving your model\n",
    "Using `torch.save`, save your model for future loading."
   ]
  },
  {
   "cell_type": "code",
   "execution_count": 106,
   "metadata": {},
   "outputs": [],
   "source": [
    "## YOUR CODE HERE ##\n",
    "\n",
    "torch.save(model1, './ann_model.pt') \n",
    "torch.save(model2, './cnn_model.pt') "
   ]
  }
 ],
 "metadata": {
  "kernelspec": {
   "display_name": "Python 3",
   "language": "python",
   "name": "python3"
  },
  "language_info": {
   "codemirror_mode": {
    "name": "ipython",
    "version": 3
   },
   "file_extension": ".py",
   "mimetype": "text/x-python",
   "name": "python",
   "nbconvert_exporter": "python",
   "pygments_lexer": "ipython3",
   "version": "3.7.6"
  }
 },
 "nbformat": 4,
 "nbformat_minor": 4
}
